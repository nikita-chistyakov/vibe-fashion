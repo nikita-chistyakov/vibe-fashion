{
 "cells": [
  {
   "cell_type": "code",
   "execution_count": 1,
   "id": "8e26f3db",
   "metadata": {},
   "outputs": [
    {
     "data": {
      "text/plain": [
       "True"
      ]
     },
     "execution_count": 1,
     "metadata": {},
     "output_type": "execute_result"
    }
   ],
   "source": [
    "from dotenv import load_dotenv\n",
    "import os\n",
    "load_dotenv()"
   ]
  },
  {
   "cell_type": "code",
   "execution_count": 2,
   "id": "192e613c",
   "metadata": {},
   "outputs": [
    {
     "name": "stdout",
     "output_type": "stream",
     "text": [
      "Image loaded successfully! Size: 1288035 bytes\n",
      "Base64 length: 1717380 characters\n"
     ]
    }
   ],
   "source": [
    "# Load image and convert to base64\n",
    "import base64\n",
    "from pathlib import Path\n",
    "\n",
    "# Load the test image\n",
    "image_path = Path(\"test_human.jpeg\")\n",
    "with open(image_path, \"rb\") as image_file:\n",
    "    image_data = image_file.read()\n",
    "\n",
    "# Convert to base64\n",
    "image_base64 = base64.b64encode(image_data).decode(\"utf-8\")\n",
    "print(f\"Image loaded successfully! Size: {len(image_data)} bytes\")\n",
    "print(f\"Base64 length: {len(image_base64)} characters\")\n",
    "\n"
   ]
  },
  {
   "cell_type": "code",
   "execution_count": 3,
   "id": "77b8989e",
   "metadata": {},
   "outputs": [
    {
     "data": {
      "text/plain": [
       "str"
      ]
     },
     "execution_count": 3,
     "metadata": {},
     "output_type": "execute_result"
    }
   ],
   "source": [
    "type(image_base64)"
   ]
  },
  {
   "cell_type": "code",
   "execution_count": null,
   "id": "19ead31c",
   "metadata": {},
   "outputs": [],
   "source": [
    "\n"
   ]
  },
  {
   "cell_type": "code",
   "execution_count": 4,
   "id": "fdaf3bc1",
   "metadata": {},
   "outputs": [
    {
     "name": "stdout",
     "output_type": "stream",
     "text": [
      "Sending request to API...\n",
      "Status Code: 200\n",
      "Response Headers: {'date': 'Sat, 11 Oct 2025 14:13:53 GMT', 'server': 'uvicorn', 'content-length': '782', 'content-type': 'application/json'}\n",
      "✅ API call successful!\n",
      "Success: True\n",
      "Text Response: This season, effortless power and understated elegance are key. We're seeing a beautiful duality emerge: the first look embodies quiet confidence with a crisp navy pantsuit, softened by a silk blouse ...\n",
      "Number of images: 2\n"
     ]
    }
   ],
   "source": [
    "# Test the API endpoint\n",
    "import requests\n",
    "import json\n",
    "\n",
    "# API endpoint URL (adjust if running on different host/port)\n",
    "api_url = \"http://localhost:8000/fashion-workflow\"\n",
    "\n",
    "# Test data\n",
    "test_data = {\n",
    "    \"base64_image\": image_base64,  # Using the base64 from previous cell\n",
    "    \"user_input\": \"What should I wear to a job interview?\"\n",
    "}\n",
    "\n",
    "# Make the API request\n",
    "try:\n",
    "    print(\"Sending request to API...\")\n",
    "    response = requests.post(api_url, json=test_data)\n",
    "    \n",
    "    print(f\"Status Code: {response.status_code}\")\n",
    "    print(f\"Response Headers: {dict(response.headers)}\")\n",
    "    \n",
    "    if response.status_code == 200:\n",
    "        result = response.json()\n",
    "        print(\"✅ API call successful!\")\n",
    "        print(f\"Success: {result.get('success')}\")\n",
    "        print(f\"Text Response: {result.get('text', 'No text')[:200]}...\")\n",
    "        print(f\"Number of images: {len(result.get('images', []))}\")\n",
    "        \n",
    "        if result.get('error_message'):\n",
    "            print(f\"Error message: {result.get('error_message')}\")\n",
    "    else:\n",
    "        print(f\"❌ API call failed with status {response.status_code}\")\n",
    "        print(f\"Response: {response.text}\")\n",
    "        \n",
    "except requests.exceptions.ConnectionError:\n",
    "    print(\"❌ Connection failed. Make sure the API server is running on localhost:8000\")\n",
    "    print(\"Start the server with: python api.py\")\n",
    "except Exception as e:\n",
    "    print(f\"❌ Error: {str(e)}\")\n"
   ]
  },
  {
   "cell_type": "code",
   "execution_count": null,
   "id": "e6d4409c",
   "metadata": {},
   "outputs": [
    {
     "name": "stdout",
     "output_type": "stream",
     "text": [
      "No base64 image data found in the first image.\n"
     ]
    }
   ],
   "source": [
    "# Debug: Let's see the actual structure of the result\n",
    "print(\"Full result structure:\")\n",
    "print(json.dumps(result, indent=2))\n",
    "\n",
    "# Visualize the first image in the result (if present)\n",
    "from PIL import Image\n",
    "import io\n",
    "import base64\n",
    "import matplotlib.pyplot as plt\n",
    "\n",
    "images = result.get(\"images\", [])\n",
    "print(f\"\\nNumber of images: {len(images)}\")\n",
    "\n",
    "if images:\n",
    "    print(f\"First image structure: {images[0]}\")\n",
    "    \n",
    "    # Try different possible keys for the base64 data\n",
    "    first_img = None\n",
    "    possible_keys = [\"base64\", \"image\", \"data\", \"content\"]\n",
    "    \n",
    "    for key in possible_keys:\n",
    "        if key in images[0]:\n",
    "            first_img = images[0][key]\n",
    "            print(f\"Found image data under key: {key}\")\n",
    "            break\n",
    "    \n",
    "    if first_img:\n",
    "        try:\n",
    "            img_bytes = base64.b64decode(first_img)\n",
    "            img = Image.open(io.BytesIO(img_bytes))\n",
    "            plt.figure(figsize=(10, 8))\n",
    "            plt.imshow(img)\n",
    "            plt.axis('off')\n",
    "            plt.title(images[0].get(\"description\", \"Generated Image\"))\n",
    "            plt.show()\n",
    "        except Exception as e:\n",
    "            print(f\"Error displaying image: {e}\")\n",
    "    else:\n",
    "        print(\"No base64 image data found in the first image.\")\n",
    "        print(\"Available keys in first image:\", list(images[0].keys()))\n",
    "else:\n",
    "    print(\"No images found in result.\")\n"
   ]
  }
 ],
 "metadata": {
  "kernelspec": {
   "display_name": ".venv",
   "language": "python",
   "name": "python3"
  },
  "language_info": {
   "codemirror_mode": {
    "name": "ipython",
    "version": 3
   },
   "file_extension": ".py",
   "mimetype": "text/x-python",
   "name": "python",
   "nbconvert_exporter": "python",
   "pygments_lexer": "ipython3",
   "version": "3.11.11"
  }
 },
 "nbformat": 4,
 "nbformat_minor": 5
}
