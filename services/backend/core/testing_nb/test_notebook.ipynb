{
 "cells": [
  {
   "cell_type": "code",
   "execution_count": 1,
   "id": "8e26f3db",
   "metadata": {},
   "outputs": [
    {
     "data": {
      "text/plain": [
       "True"
      ]
     },
     "execution_count": 1,
     "metadata": {},
     "output_type": "execute_result"
    }
   ],
   "source": [
    "from dotenv import load_dotenv\n",
    "import os\n",
    "load_dotenv()"
   ]
  },
  {
   "cell_type": "code",
   "execution_count": null,
   "id": "192e613c",
   "metadata": {},
   "outputs": [],
   "source": [
    "# Load image and convert to base64\n",
    "import base64\n",
    "from pathlib import Path\n",
    "\n",
    "# Load the test image\n",
    "image_path = Path(\"test_human.jpeg\")\n",
    "with open(image_path, \"rb\") as image_file:\n",
    "    image_data = image_file.read()\n",
    "\n",
    "# Convert to base64\n",
    "image_base64 = base64.b64encode(image_data).decode(\"utf-8\")\n",
    "print(f\"Image loaded successfully! Size: {len(image_data)} bytes\")\n",
    "print(f\"Base64 length: {len(image_base64)} characters\")\n",
    "\n"
   ]
  },
  {
   "cell_type": "code",
   "execution_count": null,
   "id": "19ead31c",
   "metadata": {},
   "outputs": [],
   "source": [
    "# Test the fashion agent\n",
    "import sys\n",
    "sys.path.append('..')  # Add parent directory to path\n",
    "from fashion_agent import fashion_agent\n",
    "import asyncio\n",
    "\n",
    "# Test message\n",
    "test_message = \"What do you think about this outfit? Any styling suggestions?\"\n",
    "\n",
    "# Run the fashion agent\n",
    "async def test_agent():\n",
    "    result = await fashion_agent.process_chat(test_message, image_data)\n",
    "    print(\"Agent Response:\")\n",
    "    print(result[\"text\"])\n",
    "    print(f\"\\nSuccess: {result['success']}\")\n",
    "    if result.get(\"images\"):\n",
    "        print(f\"Generated {len(result['images'])} sample images\")\n",
    "\n",
    "# Run the test\n",
    "await test_agent()\n"
   ]
  },
  {
   "cell_type": "code",
   "execution_count": null,
   "id": "9b9dbe45",
   "metadata": {},
   "outputs": [],
   "source": [
    "# Simple base64 conversion function\n",
    "def image_to_base64(image_path):\n",
    "    \"\"\"Convert image file to base64 string\"\"\"\n",
    "    with open(image_path, \"rb\") as image_file:\n",
    "        image_data = image_file.read()\n",
    "    return base64.b64encode(image_data).decode(\"utf-8\")\n",
    "\n",
    "# Test the function\n",
    "base64_result = image_to_base64(\"test_human.jpeg\")\n",
    "print(\"Base64 conversion successful!\")\n",
    "print(f\"First 100 characters: {base64_result[:100]}...\")\n"
   ]
  }
 ],
 "metadata": {
  "kernelspec": {
   "display_name": ".venv",
   "language": "python",
   "name": "python3"
  },
  "language_info": {
   "codemirror_mode": {
    "name": "ipython",
    "version": 3
   },
   "file_extension": ".py",
   "mimetype": "text/x-python",
   "name": "python",
   "nbconvert_exporter": "python",
   "pygments_lexer": "ipython3",
   "version": "3.11.11"
  }
 },
 "nbformat": 4,
 "nbformat_minor": 5
}
