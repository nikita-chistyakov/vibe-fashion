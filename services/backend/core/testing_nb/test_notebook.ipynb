{
 "cells": [
  {
   "cell_type": "code",
   "execution_count": 1,
   "id": "8e26f3db",
   "metadata": {},
   "outputs": [
    {
     "data": {
      "text/plain": [
       "True"
      ]
     },
     "execution_count": 1,
     "metadata": {},
     "output_type": "execute_result"
    }
   ],
   "source": [
    "from dotenv import load_dotenv\n",
    "import os\n",
    "load_dotenv()"
   ]
  },
  {
   "cell_type": "code",
   "execution_count": 4,
   "id": "192e613c",
   "metadata": {},
   "outputs": [
    {
     "name": "stdout",
     "output_type": "stream",
     "text": [
      "Image loaded successfully! Size: 1288035 bytes\n",
      "Base64 length: 1717380 characters\n"
     ]
    }
   ],
   "source": [
    "# Load image and convert to base64\n",
    "import base64\n",
    "from pathlib import Path\n",
    "\n",
    "# Load the test image\n",
    "image_path = Path(\"test_human.jpeg\")\n",
    "with open(image_path, \"rb\") as image_file:\n",
    "    image_data = image_file.read()\n",
    "\n",
    "# Convert to base64\n",
    "image_base64 = base64.b64encode(image_data).decode(\"utf-8\")\n",
    "print(f\"Image loaded successfully! Size: {len(image_data)} bytes\")\n",
    "print(f\"Base64 length: {len(image_base64)} characters\")\n",
    "\n"
   ]
  },
  {
   "cell_type": "code",
   "execution_count": 6,
   "id": "77b8989e",
   "metadata": {},
   "outputs": [
    {
     "data": {
      "text/plain": [
       "str"
      ]
     },
     "execution_count": 6,
     "metadata": {},
     "output_type": "execute_result"
    }
   ],
   "source": [
    "type(image_base64)"
   ]
  },
  {
   "cell_type": "code",
   "execution_count": null,
   "id": "19ead31c",
   "metadata": {},
   "outputs": [
    {
     "ename": "DefaultCredentialsError",
     "evalue": "Your default credentials were not found. To set up Application Default Credentials, see https://cloud.google.com/docs/authentication/external/set-up-adc for more information.",
     "output_type": "error",
     "traceback": [
      "\u001b[31m---------------------------------------------------------------------------\u001b[39m",
      "\u001b[31mDefaultCredentialsError\u001b[39m                   Traceback (most recent call last)",
      "\u001b[36mCell\u001b[39m\u001b[36m \u001b[39m\u001b[32mIn[3]\u001b[39m\u001b[32m, line 4\u001b[39m\n\u001b[32m      2\u001b[39m \u001b[38;5;28;01mimport\u001b[39;00m\u001b[38;5;250m \u001b[39m\u001b[34;01msys\u001b[39;00m\n\u001b[32m      3\u001b[39m sys.path.append(\u001b[33m'\u001b[39m\u001b[33m..\u001b[39m\u001b[33m'\u001b[39m)  \u001b[38;5;66;03m# Add parent directory to path\u001b[39;00m\n\u001b[32m----> \u001b[39m\u001b[32m4\u001b[39m \u001b[38;5;28;01mfrom\u001b[39;00m\u001b[38;5;250m \u001b[39m\u001b[34;01mfashion_agent\u001b[39;00m\u001b[38;5;250m \u001b[39m\u001b[38;5;28;01mimport\u001b[39;00m fashion_agent\n\u001b[32m      5\u001b[39m \u001b[38;5;28;01mimport\u001b[39;00m\u001b[38;5;250m \u001b[39m\u001b[34;01masyncio\u001b[39;00m\n\u001b[32m      7\u001b[39m \u001b[38;5;66;03m# Test message\u001b[39;00m\n",
      "\u001b[36mFile \u001b[39m\u001b[32mc:\\Users\\Ad\\Desktop\\vibe-fashion\\services\\backend\\core\\testing_nb\\..\\fashion_agent.py:44\u001b[39m\n\u001b[32m     41\u001b[39m os.environ.setdefault(\u001b[33m\"\u001b[39m\u001b[33mGOOGLE_GENAI_USE_VERTEXAI\u001b[39m\u001b[33m\"\u001b[39m, \u001b[33m\"\u001b[39m\u001b[33mTrue\u001b[39m\u001b[33m\"\u001b[39m)\n\u001b[32m     43\u001b[39m \u001b[38;5;66;03m# Set up Cloud Logging\u001b[39;00m\n\u001b[32m---> \u001b[39m\u001b[32m44\u001b[39m logging_client = \u001b[43mgoogle_cloud_logging\u001b[49m\u001b[43m.\u001b[49m\u001b[43mClient\u001b[49m\u001b[43m(\u001b[49m\u001b[43m)\u001b[49m\n\u001b[32m     45\u001b[39m logger = logging_client.logger(\u001b[33m\"\u001b[39m\u001b[33mfashion-agent\u001b[39m\u001b[33m\"\u001b[39m)\n\u001b[32m     48\u001b[39m \u001b[38;5;28;01mclass\u001b[39;00m\u001b[38;5;250m \u001b[39m\u001b[34;01mFashionAgent\u001b[39;00m:\n",
      "\u001b[36mFile \u001b[39m\u001b[32mc:\\Users\\Ad\\Desktop\\vibe-fashion\\services\\backend\\.venv\\Lib\\site-packages\\google\\cloud\\logging_v2\\client.py:122\u001b[39m, in \u001b[36mClient.__init__\u001b[39m\u001b[34m(self, project, credentials, _http, _use_grpc, client_info, client_options)\u001b[39m\n\u001b[32m     80\u001b[39m \u001b[38;5;28;01mdef\u001b[39;00m\u001b[38;5;250m \u001b[39m\u001b[34m__init__\u001b[39m(\n\u001b[32m     81\u001b[39m     \u001b[38;5;28mself\u001b[39m,\n\u001b[32m     82\u001b[39m     *,\n\u001b[32m   (...)\u001b[39m\u001b[32m     88\u001b[39m     client_options=\u001b[38;5;28;01mNone\u001b[39;00m,\n\u001b[32m     89\u001b[39m ):\n\u001b[32m     90\u001b[39m \u001b[38;5;250m    \u001b[39m\u001b[33;03m\"\"\"\u001b[39;00m\n\u001b[32m     91\u001b[39m \u001b[33;03m    Args:\u001b[39;00m\n\u001b[32m     92\u001b[39m \u001b[33;03m        project (Optional[str]): the project which the client acts on behalf of.\u001b[39;00m\n\u001b[32m   (...)\u001b[39m\u001b[32m    120\u001b[39m \u001b[33;03m            on the client. API Endpoint should be set through client_options.\u001b[39;00m\n\u001b[32m    121\u001b[39m \u001b[33;03m    \"\"\"\u001b[39;00m\n\u001b[32m--> \u001b[39m\u001b[32m122\u001b[39m     \u001b[38;5;28;43msuper\u001b[39;49m\u001b[43m(\u001b[49m\u001b[43mClient\u001b[49m\u001b[43m,\u001b[49m\u001b[43m \u001b[49m\u001b[38;5;28;43mself\u001b[39;49m\u001b[43m)\u001b[49m\u001b[43m.\u001b[49m\u001b[34;43m__init__\u001b[39;49m\u001b[43m(\u001b[49m\n\u001b[32m    123\u001b[39m \u001b[43m        \u001b[49m\u001b[43mproject\u001b[49m\u001b[43m=\u001b[49m\u001b[43mproject\u001b[49m\u001b[43m,\u001b[49m\n\u001b[32m    124\u001b[39m \u001b[43m        \u001b[49m\u001b[43mcredentials\u001b[49m\u001b[43m=\u001b[49m\u001b[43mcredentials\u001b[49m\u001b[43m,\u001b[49m\n\u001b[32m    125\u001b[39m \u001b[43m        \u001b[49m\u001b[43m_http\u001b[49m\u001b[43m=\u001b[49m\u001b[43m_http\u001b[49m\u001b[43m,\u001b[49m\n\u001b[32m    126\u001b[39m \u001b[43m        \u001b[49m\u001b[43mclient_options\u001b[49m\u001b[43m=\u001b[49m\u001b[43mclient_options\u001b[49m\u001b[43m,\u001b[49m\n\u001b[32m    127\u001b[39m \u001b[43m    \u001b[49m\u001b[43m)\u001b[49m\n\u001b[32m    129\u001b[39m     kw_args = {\u001b[33m\"\u001b[39m\u001b[33mclient_info\u001b[39m\u001b[33m\"\u001b[39m: client_info}\n\u001b[32m    130\u001b[39m     \u001b[38;5;28;01mif\u001b[39;00m client_options:\n",
      "\u001b[36mFile \u001b[39m\u001b[32mc:\\Users\\Ad\\Desktop\\vibe-fashion\\services\\backend\\.venv\\Lib\\site-packages\\google\\cloud\\client\\__init__.py:339\u001b[39m, in \u001b[36mClientWithProject.__init__\u001b[39m\u001b[34m(self, project, credentials, client_options, _http)\u001b[39m\n\u001b[32m    337\u001b[39m \u001b[38;5;28;01mdef\u001b[39;00m\u001b[38;5;250m \u001b[39m\u001b[34m__init__\u001b[39m(\u001b[38;5;28mself\u001b[39m, project=\u001b[38;5;28;01mNone\u001b[39;00m, credentials=\u001b[38;5;28;01mNone\u001b[39;00m, client_options=\u001b[38;5;28;01mNone\u001b[39;00m, _http=\u001b[38;5;28;01mNone\u001b[39;00m):\n\u001b[32m    338\u001b[39m     _ClientProjectMixin.\u001b[34m__init__\u001b[39m(\u001b[38;5;28mself\u001b[39m, project=project, credentials=credentials)\n\u001b[32m--> \u001b[39m\u001b[32m339\u001b[39m     \u001b[43mClient\u001b[49m\u001b[43m.\u001b[49m\u001b[34;43m__init__\u001b[39;49m\u001b[43m(\u001b[49m\n\u001b[32m    340\u001b[39m \u001b[43m        \u001b[49m\u001b[38;5;28;43mself\u001b[39;49m\u001b[43m,\u001b[49m\u001b[43m \u001b[49m\u001b[43mcredentials\u001b[49m\u001b[43m=\u001b[49m\u001b[43mcredentials\u001b[49m\u001b[43m,\u001b[49m\u001b[43m \u001b[49m\u001b[43mclient_options\u001b[49m\u001b[43m=\u001b[49m\u001b[43mclient_options\u001b[49m\u001b[43m,\u001b[49m\u001b[43m \u001b[49m\u001b[43m_http\u001b[49m\u001b[43m=\u001b[49m\u001b[43m_http\u001b[49m\n\u001b[32m    341\u001b[39m \u001b[43m    \u001b[49m\u001b[43m)\u001b[49m\n",
      "\u001b[36mFile \u001b[39m\u001b[32mc:\\Users\\Ad\\Desktop\\vibe-fashion\\services\\backend\\.venv\\Lib\\site-packages\\google\\cloud\\client\\__init__.py:196\u001b[39m, in \u001b[36mClient.__init__\u001b[39m\u001b[34m(self, credentials, _http, client_options)\u001b[39m\n\u001b[32m    194\u001b[39m         credentials = google.auth.api_key.Credentials(client_options.api_key)\n\u001b[32m    195\u001b[39m     \u001b[38;5;28;01melse\u001b[39;00m:\n\u001b[32m--> \u001b[39m\u001b[32m196\u001b[39m         credentials, _ = \u001b[43mgoogle\u001b[49m\u001b[43m.\u001b[49m\u001b[43mauth\u001b[49m\u001b[43m.\u001b[49m\u001b[43mdefault\u001b[49m\u001b[43m(\u001b[49m\u001b[43mscopes\u001b[49m\u001b[43m=\u001b[49m\u001b[43mscopes\u001b[49m\u001b[43m)\u001b[49m\n\u001b[32m    198\u001b[39m \u001b[38;5;28mself\u001b[39m._credentials = google.auth.credentials.with_scopes_if_required(\n\u001b[32m    199\u001b[39m     credentials, scopes=scopes\n\u001b[32m    200\u001b[39m )\n\u001b[32m    202\u001b[39m \u001b[38;5;28;01mif\u001b[39;00m client_options.quota_project_id:\n",
      "\u001b[36mFile \u001b[39m\u001b[32mc:\\Users\\Ad\\Desktop\\vibe-fashion\\services\\backend\\.venv\\Lib\\site-packages\\google\\auth\\_default.py:739\u001b[39m, in \u001b[36mdefault\u001b[39m\u001b[34m(scopes, request, quota_project_id, default_scopes)\u001b[39m\n\u001b[32m    731\u001b[39m             _LOGGER.warning(\n\u001b[32m    732\u001b[39m                 \u001b[33m\"\u001b[39m\u001b[33mNo project ID could be determined. Consider running \u001b[39m\u001b[33m\"\u001b[39m\n\u001b[32m    733\u001b[39m                 \u001b[33m\"\u001b[39m\u001b[33m`gcloud config set project` or setting the \u001b[39m\u001b[38;5;132;01m%s\u001b[39;00m\u001b[33m \u001b[39m\u001b[33m\"\u001b[39m\n\u001b[32m    734\u001b[39m                 \u001b[33m\"\u001b[39m\u001b[33menvironment variable\u001b[39m\u001b[33m\"\u001b[39m,\n\u001b[32m    735\u001b[39m                 environment_vars.PROJECT,\n\u001b[32m    736\u001b[39m             )\n\u001b[32m    737\u001b[39m         \u001b[38;5;28;01mreturn\u001b[39;00m credentials, effective_project_id\n\u001b[32m--> \u001b[39m\u001b[32m739\u001b[39m \u001b[38;5;28;01mraise\u001b[39;00m exceptions.DefaultCredentialsError(_CLOUD_SDK_MISSING_CREDENTIALS)\n",
      "\u001b[31mDefaultCredentialsError\u001b[39m: Your default credentials were not found. To set up Application Default Credentials, see https://cloud.google.com/docs/authentication/external/set-up-adc for more information."
     ]
    }
   ],
   "source": [
    "\n"
   ]
  },
  {
   "cell_type": "code",
   "execution_count": 10,
   "id": "fdaf3bc1",
   "metadata": {},
   "outputs": [
    {
     "name": "stdout",
     "output_type": "stream",
     "text": [
      "Sending request to API...\n",
      "❌ Connection failed. Make sure the API server is running on localhost:8000\n",
      "Start the server with: python api.py\n"
     ]
    }
   ],
   "source": [
    "# Test the API endpoint\n",
    "import requests\n",
    "import json\n",
    "\n",
    "# API endpoint URL (adjust if running on different host/port)\n",
    "api_url = \"http://localhost:8000/fashion-workflow\"\n",
    "\n",
    "# Test data\n",
    "test_data = {\n",
    "    \"base64_image\": image_base64,  # Using the base64 from previous cell\n",
    "    \"user_input\": \"What should I wear for a job interview?\"\n",
    "}\n",
    "\n",
    "# Make the API request\n",
    "try:\n",
    "    print(\"Sending request to API...\")\n",
    "    response = requests.post(api_url, json=test_data)\n",
    "    \n",
    "    print(f\"Status Code: {response.status_code}\")\n",
    "    print(f\"Response Headers: {dict(response.headers)}\")\n",
    "    \n",
    "    if response.status_code == 200:\n",
    "        result = response.json()\n",
    "        print(\"✅ API call successful!\")\n",
    "        print(f\"Success: {result.get('success')}\")\n",
    "        print(f\"Text Response: {result.get('text', 'No text')[:200]}...\")\n",
    "        print(f\"Number of images: {len(result.get('images', []))}\")\n",
    "        \n",
    "        if result.get('error_message'):\n",
    "            print(f\"Error message: {result.get('error_message')}\")\n",
    "    else:\n",
    "        print(f\"❌ API call failed with status {response.status_code}\")\n",
    "        print(f\"Response: {response.text}\")\n",
    "        \n",
    "except requests.exceptions.ConnectionError:\n",
    "    print(\"❌ Connection failed. Make sure the API server is running on localhost:8000\")\n",
    "    print(\"Start the server with: python api.py\")\n",
    "except Exception as e:\n",
    "    print(f\"❌ Error: {str(e)}\")\n"
   ]
  },
  {
   "cell_type": "code",
   "execution_count": null,
   "id": "fbed9cbe",
   "metadata": {},
   "outputs": [],
   "source": [
    "# Test different types of requests to see intent classification\n",
    "test_cases = [\n",
    "    {\n",
    "        \"name\": \"Fashion Request\",\n",
    "        \"user_input\": \"Help me create a casual weekend outfit\"\n",
    "    },\n",
    "    {\n",
    "        \"name\": \"General Query\", \n",
    "        \"user_input\": \"What is fashion?\"\n",
    "    },\n",
    "    {\n",
    "        \"name\": \"Unclear Request\",\n",
    "        \"user_input\": \"Hello\"\n",
    "    }\n",
    "]\n",
    "\n",
    "for test_case in test_cases:\n",
    "    print(f\"\\n🧪 Testing: {test_case['name']}\")\n",
    "    print(f\"Input: {test_case['user_input']}\")\n",
    "    \n",
    "    test_data = {\n",
    "        \"base64_image\": image_base64,\n",
    "        \"user_input\": test_case['user_input']\n",
    "    }\n",
    "    \n",
    "    try:\n",
    "        response = requests.post(api_url, json=test_data)\n",
    "        if response.status_code == 200:\n",
    "            result = response.json()\n",
    "            print(f\"✅ Response: {result.get('text', 'No text')[:150]}...\")\n",
    "        else:\n",
    "            print(f\"❌ Failed with status {response.status_code}\")\n",
    "    except Exception as e:\n",
    "        print(f\"❌ Error: {str(e)}\")\n",
    "    \n",
    "    print(\"-\" * 50)\n"
   ]
  },
  {
   "cell_type": "code",
   "execution_count": null,
   "id": "9b9dbe45",
   "metadata": {},
   "outputs": [],
   "source": [
    "# Simple base64 conversion function\n",
    "def image_to_base64(image_path):\n",
    "    \"\"\"Convert image file to base64 string\"\"\"\n",
    "    with open(image_path, \"rb\") as image_file:\n",
    "        image_data = image_file.read()\n",
    "    return base64.b64encode(image_data).decode(\"utf-8\")\n",
    "\n",
    "# Test the function\n",
    "base64_result = image_to_base64(\"test_human.jpeg\")\n",
    "print(\"Base64 conversion successful!\")\n",
    "print(f\"First 100 characters: {base64_result[:100]}...\")\n"
   ]
  },
  {
   "cell_type": "code",
   "execution_count": null,
   "id": "9a1c207c",
   "metadata": {},
   "outputs": [],
   "source": [
    "# send "
   ]
  }
 ],
 "metadata": {
  "kernelspec": {
   "display_name": ".venv",
   "language": "python",
   "name": "python3"
  },
  "language_info": {
   "codemirror_mode": {
    "name": "ipython",
    "version": 3
   },
   "file_extension": ".py",
   "mimetype": "text/x-python",
   "name": "python",
   "nbconvert_exporter": "python",
   "pygments_lexer": "ipython3",
   "version": "3.11.11"
  }
 },
 "nbformat": 4,
 "nbformat_minor": 5
}
